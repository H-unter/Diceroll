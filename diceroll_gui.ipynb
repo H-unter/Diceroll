{
 "cells": [
  {
   "cell_type": "code",
   "execution_count": 1,
   "id": "8be343d9-60c9-47f6-8402-723914f88405",
   "metadata": {},
   "outputs": [
    {
     "data": {
      "application/vnd.jupyter.widget-view+json": {
       "model_id": "59081fe4f3ad448ca86cd0ae430062c6",
       "version_major": 2,
       "version_minor": 0
      },
      "text/plain": [
       "Text(value='1d6+4', continuous_update=False, description='Dice Roll:', style=TextStyle(description_width='init…"
      ]
     },
     "metadata": {},
     "output_type": "display_data"
    },
    {
     "data": {
      "application/vnd.jupyter.widget-view+json": {
       "model_id": "a2886b8c7704434890037421a01d76eb",
       "version_major": 2,
       "version_minor": 0
      },
      "text/plain": [
       "Button(button_style='primary', description='Update', icon='refresh', style=ButtonStyle(), tooltip='Click to up…"
      ]
     },
     "metadata": {},
     "output_type": "display_data"
    },
    {
     "data": {
      "application/vnd.jupyter.widget-view+json": {
       "model_id": "834ba2f294c74c21a3b25b6c102da4ac",
       "version_major": 2,
       "version_minor": 0
      },
      "text/plain": [
       "Output()"
      ]
     },
     "metadata": {},
     "output_type": "display_data"
    },
    {
     "data": {
      "application/vnd.jupyter.widget-view+json": {
       "model_id": "5cb101c421d14dfdb8c6d3f460c7a05f",
       "version_major": 2,
       "version_minor": 0
      },
      "text/plain": [
       "Output()"
      ]
     },
     "metadata": {},
     "output_type": "display_data"
    }
   ],
   "source": [
    "import ipywidgets as widgets\n",
    "from IPython.display import display, clear_output\n",
    "from diceroll import dice_roll_toolbox  # Import the dice_roll_toolbox class\n",
    "\n",
    "# Create a Text widget for dice configuration\n",
    "dice_input_text = widgets.Text(\n",
    "    value='1d6+4',  # Default value\n",
    "    description='Dice Roll:',\n",
    "    style={'description_width': 'initial'},\n",
    "    continuous_update=False\n",
    ")\n",
    "\n",
    "# Create the Update button\n",
    "update_button = widgets.Button(\n",
    "    description='Update',\n",
    "    button_style='primary',\n",
    "    tooltip='Click to update plot',\n",
    "    icon='refresh'\n",
    ")\n",
    "\n",
    "# Create Output widgets: one for the static plot and another for the dynamic y_slider\n",
    "output_plot = widgets.Output()\n",
    "output_slider = widgets.Output()\n",
    "\n",
    "# Function to update and display the static plot when Update button is pressed\n",
    "def update_plot(change=None):\n",
    "    global y_slider  # Make y_slider global so it can be accessed and modified\n",
    "\n",
    "    with output_plot:\n",
    "        clear_output(wait=True)\n",
    "        dice_prompt = dice_input_text.value\n",
    "        \n",
    "        # Use the dice_roll_toolbox class to handle the input\n",
    "        dice_roll = dice_roll_toolbox(dice_prompt)\n",
    "\n",
    "        # Plot the updated results\n",
    "        dice_roll.plot_values()\n",
    "\n",
    "    # Delete the existing y_slider and create a new one\n",
    "    with output_slider:\n",
    "        clear_output(wait=True)  # Clear the previous slider\n",
    "        # Recreate y_slider with updated properties\n",
    "        y_slider = widgets.IntSlider(\n",
    "            value=round(dice_roll.mean_outcome),  # Set default value to mean_value\n",
    "            min=dice_roll.min_outcome,\n",
    "            max=dice_roll.max_outcome,\n",
    "            step=1,\n",
    "            description=r'$\\text{Threshold, }y=$',\n",
    "            style={'description_width': 'initial'},\n",
    "            continuous_update=True,\n",
    "            layout=widgets.Layout(width='1100px')  # Set the slider width to 1100px\n",
    "        )\n",
    "\n",
    "        # Attach the update function to the new y_slider value change event\n",
    "        y_slider.observe(update_slider_output, names='value')\n",
    "\n",
    "        # Display the new y_slider\n",
    "        display(y_slider)\n",
    "\n",
    "# Function to update the dynamic y_slider output\n",
    "def update_slider_output(change=None):\n",
    "    with output_slider:\n",
    "        clear_output(wait=True)\n",
    "        # Display the slider\n",
    "        display(y_slider)\n",
    "        \n",
    "        # Output the selected numerical results based on y_slider value\n",
    "        dice_prompt = dice_input_text.value\n",
    "        \n",
    "        dice_roll = dice_roll_toolbox(dice_prompt)\n",
    "        dice_roll.output_select_numerical_results(y_slider.value)\n",
    "\n",
    "# Attach the update function to the Update button click event\n",
    "update_button.on_click(update_plot)\n",
    "\n",
    "# Display the text input and the Update button\n",
    "display(dice_input_text)\n",
    "display(update_button)\n",
    "\n",
    "# Display the output areas\n",
    "display(output_plot)\n",
    "display(output_slider)\n",
    "\n",
    "# Initial call to display the plot and setup the slider\n",
    "update_plot()\n"
   ]
  }
 ],
 "metadata": {
  "kernelspec": {
   "display_name": "Python 3 (ipykernel)",
   "language": "python",
   "name": "python3"
  },
  "language_info": {
   "codemirror_mode": {
    "name": "ipython",
    "version": 3
   },
   "file_extension": ".py",
   "mimetype": "text/x-python",
   "name": "python",
   "nbconvert_exporter": "python",
   "pygments_lexer": "ipython3",
   "version": "3.12.4"
  }
 },
 "nbformat": 4,
 "nbformat_minor": 5
}
