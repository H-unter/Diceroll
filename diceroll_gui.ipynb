{
 "cells": [
  {
   "cell_type": "code",
   "execution_count": 38,
   "id": "8be343d9-60c9-47f6-8402-723914f88405",
   "metadata": {},
   "outputs": [
    {
     "data": {
      "application/vnd.jupyter.widget-view+json": {
       "model_id": "d54654e07b62470b87e7391c60d47ec2",
       "version_major": 2,
       "version_minor": 0
      },
      "text/plain": [
       "SelectionSlider(continuous_update=False, description='Dice Faces:', index=1, options=(4, 6, 8, 10, 12, 20, 100…"
      ]
     },
     "metadata": {},
     "output_type": "display_data"
    },
    {
     "data": {
      "application/vnd.jupyter.widget-view+json": {
       "model_id": "b5d9b659dd48407199c039526c7e9f26",
       "version_major": 2,
       "version_minor": 0
      },
      "text/plain": [
       "IntSlider(value=1, continuous_update=False, description='Addon:', max=20, min=1, style=SliderStyle(description…"
      ]
     },
     "metadata": {},
     "output_type": "display_data"
    },
    {
     "data": {
      "application/vnd.jupyter.widget-view+json": {
       "model_id": "5932138d34b9427e920f5ce7a3ec1891",
       "version_major": 2,
       "version_minor": 0
      },
      "text/plain": [
       "IntSlider(value=1, continuous_update=False, description='Dice Quantity:', max=10, min=1, style=SliderStyle(des…"
      ]
     },
     "metadata": {},
     "output_type": "display_data"
    },
    {
     "data": {
      "application/vnd.jupyter.widget-view+json": {
       "model_id": "0ba193027f984d77ba364266ed59ebe3",
       "version_major": 2,
       "version_minor": 0
      },
      "text/plain": [
       "Button(description='Update Results', style=ButtonStyle(button_color='lightblue'))"
      ]
     },
     "metadata": {},
     "output_type": "display_data"
    },
    {
     "data": {
      "application/vnd.jupyter.widget-view+json": {
       "model_id": "64f875d0a09f4bdabc5ca745721f88e9",
       "version_major": 2,
       "version_minor": 0
      },
      "text/plain": [
       "Output()"
      ]
     },
     "metadata": {},
     "output_type": "display_data"
    },
    {
     "data": {
      "application/vnd.jupyter.widget-view+json": {
       "model_id": "ac25d09c8f154276b35c854cadeb1b9c",
       "version_major": 2,
       "version_minor": 0
      },
      "text/plain": [
       "Textarea(value='', description='Results:', disabled=True, layout=Layout(height='200px', width='100%'), placeho…"
      ]
     },
     "metadata": {},
     "output_type": "display_data"
    }
   ],
   "source": [
    "import ipywidgets as widgets\n",
    "from IPython.display import display, clear_output\n",
    "import diceroll  # Import the custom module\n",
    "\n",
    "# Create widgets\n",
    "dice_face_slider = widgets.SelectionSlider(\n",
    "    options=[4, 6, 8, 10, 12, 20, 100],\n",
    "    value=6,  # Default value\n",
    "    description='Dice Faces:',\n",
    "    style={'description_width': 'initial'},\n",
    "    continuous_update=False\n",
    ")\n",
    "\n",
    "addon_slider = widgets.IntSlider(\n",
    "    value=1,\n",
    "    min=1,\n",
    "    max=20,\n",
    "    step=1,\n",
    "    description='Addon:',\n",
    "    style={'description_width': 'initial'},\n",
    "    continuous_update=False\n",
    ")\n",
    "\n",
    "dice_quantity_slider = widgets.IntSlider(\n",
    "    value=1,\n",
    "    min=1,\n",
    "    max=10,\n",
    "    step=1,\n",
    "    description='Dice Quantity:',\n",
    "    style={'description_width': 'initial'},\n",
    "    continuous_update=False\n",
    ")\n",
    "\n",
    "# Create update button\n",
    "update_button = widgets.Button(\n",
    "    description='Update Results',\n",
    "    style={'button_color': 'lightblue'}\n",
    ")\n",
    "\n",
    "# Create an Output widget to handle the plot\n",
    "output = widgets.Output()\n",
    "\n",
    "# Create a Textarea widget for results display\n",
    "results_textarea = widgets.Textarea(\n",
    "    value='',\n",
    "    placeholder='Results will be displayed here...',\n",
    "    description='Results:',\n",
    "    layout=widgets.Layout(width='100%', height='200px'),\n",
    "    disabled=True\n",
    ")\n",
    "\n",
    "# Initialize y_slider (initial values will be set after plotting)\n",
    "y_slider = widgets.IntSlider(\n",
    "    value=1,\n",
    "    min=1,  # Placeholder values\n",
    "    max=100,\n",
    "    step=1,\n",
    "    description='Threshold y:',\n",
    "    style={'description_width': 'initial'},\n",
    "    continuous_update=False\n",
    ")\n",
    "\n",
    "def update_results(button=None):\n",
    "    with output:\n",
    "        clear_output(wait=True)\n",
    "        dice_faces = dice_face_slider.value\n",
    "        addon = addon_slider.value\n",
    "        dice_quantity = dice_quantity_slider.value\n",
    "        \n",
    "        dice_prompt = f\"{dice_quantity}d{dice_faces}+{addon}\"\n",
    "        outcome_to_probability = diceroll.calculate_pdf(dice_faces, dice_quantity, addon)\n",
    "        mean_value = diceroll.calculate_mean(outcome_to_probability)\n",
    "        \n",
    "        min_value = min(outcome_to_probability.keys())\n",
    "        max_value = max(outcome_to_probability.keys())\n",
    "        cumulative_probabilities = []\n",
    "        \n",
    "        for outcome, probability in outcome_to_probability.items():\n",
    "            cumulative_probability = sum([p for x, p in outcome_to_probability.items() if x <= outcome])\n",
    "            cumulative_probability_percentage = cumulative_probability * 100\n",
    "            cumulative_probabilities.append(f\"P(0<x<{outcome}) = {cumulative_probability_percentage:.2f}%; P({outcome}<x<{max_value}) = {100 - cumulative_probability_percentage:.2f}%\")\n",
    "        \n",
    "        results_textarea.value = \"\\n\".join(cumulative_probabilities)\n",
    "        \n",
    "        # Plot the updated results\n",
    "        diceroll.plot_values(dice_prompt, outcome_to_probability, mean_value)\n",
    "        \n",
    "        # Safely update y_slider based on the current outcome_to_probability\n",
    "        try:\n",
    "            # Ensure min and max values are valid and do not overlap\n",
    "            if min_value < max_value:\n",
    "                y_slider.min = min_value\n",
    "                y_slider.max = max_value\n",
    "                \n",
    "                # Set default value to within bounds\n",
    "                y_slider.value = min_value\n",
    "                \n",
    "                # Display the slider\n",
    "                display(y_slider)\n",
    "            else:\n",
    "                results_textarea.value += \"\\nError: min_value is not less than max_value. min_value and max_value are the same or invalid.\"\n",
    "        except Exception as e:\n",
    "            results_textarea.value += f\"\\nError: {str(e)}\"\n",
    "\n",
    "\n",
    "# Function to handle y_slider changes\n",
    "def on_y_slider_change(change):\n",
    "    threshold_y = change['new']\n",
    "    dice_faces = dice_face_slider.value\n",
    "    addon = addon_slider.value\n",
    "    dice_quantity = dice_quantity_slider.value\n",
    "    \n",
    "    dice_prompt = f\"{dice_quantity}d{dice_faces}+{addon}\"\n",
    "    outcome_to_probability = diceroll.calculate_pdf(dice_faces, dice_quantity, addon)\n",
    "    min_value = min(outcome_to_probability.keys())\n",
    "    max_value = max(outcome_to_probability.keys())\n",
    "    \n",
    "    # Ensure threshold_y is within bounds\n",
    "    if min_value <= threshold_y <= max_value:\n",
    "        cumulative_prob_min_to_y = sum([p for x, p in outcome_to_probability.items() if min_value < x < threshold_y])\n",
    "        cumulative_prob_y_to_max = sum([p for x, p in outcome_to_probability.items() if threshold_y < x < max_value])\n",
    "        \n",
    "        cumulative_prob_min_to_y_percentage = cumulative_prob_min_to_y * 100\n",
    "        cumulative_prob_y_to_max_percentage = cumulative_prob_y_to_max * 100\n",
    "        \n",
    "        results_textarea.value = f\"\\nFor y = {threshold_y}:\\n\" \\\n",
    "                                 f\"P({min_value}<x<{threshold_y}) = {cumulative_prob_min_to_y_percentage:.2f}%\\n\" \\\n",
    "                                 f\"P({threshold_y}<x<{max_value}) = {cumulative_prob_y_to_max_percentage:.2f}%\"\n",
    "    else:\n",
    "        results_textarea.value += \"\\nError: Threshold value is out of bounds.\"\n",
    "\n",
    "# Attach functions to events\n",
    "update_button.on_click(update_results)\n",
    "y_slider.observe(on_y_slider_change, names='value')\n",
    "\n",
    "# Display widgets\n",
    "display(dice_face_slider)\n",
    "display(addon_slider)\n",
    "display(dice_quantity_slider)\n",
    "display(update_button)\n",
    "display(output)\n",
    "display(results_textarea)\n",
    "\n",
    "# Initial call to display results\n",
    "update_results()"
   ]
  },
  {
   "cell_type": "code",
   "execution_count": null,
   "id": "12b25038-5bb8-475c-aaf3-e97adc85b997",
   "metadata": {},
   "outputs": [],
   "source": []
  }
 ],
 "metadata": {
  "kernelspec": {
   "display_name": "Python 3 (ipykernel)",
   "language": "python",
   "name": "python3"
  },
  "language_info": {
   "codemirror_mode": {
    "name": "ipython",
    "version": 3
   },
   "file_extension": ".py",
   "mimetype": "text/x-python",
   "name": "python",
   "nbconvert_exporter": "python",
   "pygments_lexer": "ipython3",
   "version": "3.12.4"
  }
 },
 "nbformat": 4,
 "nbformat_minor": 5
}
