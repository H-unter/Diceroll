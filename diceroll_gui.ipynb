{
 "cells": [
  {
   "cell_type": "code",
   "execution_count": 22,
   "id": "8be343d9-60c9-47f6-8402-723914f88405",
   "metadata": {},
   "outputs": [
    {
     "data": {
      "application/vnd.jupyter.widget-view+json": {
       "model_id": "8142047b80d94c5fb8090011d100e430",
       "version_major": 2,
       "version_minor": 0
      },
      "text/plain": [
       "IntSlider(value=1, continuous_update=False, description='Dice Quantity:', max=10, min=1, style=SliderStyle(des…"
      ]
     },
     "metadata": {},
     "output_type": "display_data"
    },
    {
     "data": {
      "application/vnd.jupyter.widget-view+json": {
       "model_id": "4cfab87dcfe44f3e86358d876ad2c268",
       "version_major": 2,
       "version_minor": 0
      },
      "text/plain": [
       "SelectionSlider(continuous_update=False, description='Dice Faces:', index=1, options=(4, 6, 8, 10, 12, 20, 100…"
      ]
     },
     "metadata": {},
     "output_type": "display_data"
    },
    {
     "data": {
      "application/vnd.jupyter.widget-view+json": {
       "model_id": "efa9a00190b145ce9806fb1b66f76bac",
       "version_major": 2,
       "version_minor": 0
      },
      "text/plain": [
       "IntSlider(value=1, continuous_update=False, description='Addon:', max=20, min=1, style=SliderStyle(description…"
      ]
     },
     "metadata": {},
     "output_type": "display_data"
    },
    {
     "data": {
      "application/vnd.jupyter.widget-view+json": {
       "model_id": "4e1be7cb2d8649429a1dfce285b123c7",
       "version_major": 2,
       "version_minor": 0
      },
      "text/plain": [
       "Button(button_style='primary', description='Update', icon='refresh', style=ButtonStyle(), tooltip='Click to up…"
      ]
     },
     "metadata": {},
     "output_type": "display_data"
    },
    {
     "data": {
      "application/vnd.jupyter.widget-view+json": {
       "model_id": "b936bbe9124b4ed5a06e0bf7279eebcc",
       "version_major": 2,
       "version_minor": 0
      },
      "text/plain": [
       "Output()"
      ]
     },
     "metadata": {},
     "output_type": "display_data"
    },
    {
     "data": {
      "application/vnd.jupyter.widget-view+json": {
       "model_id": "b7e46e8321a9430ebe010f1144c22a11",
       "version_major": 2,
       "version_minor": 0
      },
      "text/plain": [
       "Output()"
      ]
     },
     "metadata": {},
     "output_type": "display_data"
    }
   ],
   "source": [
    "import ipywidgets as widgets\n",
    "from IPython.display import display, clear_output\n",
    "from diceroll import dice_roll_toolbox  # Import the dice_roll_toolbox class\n",
    "\n",
    "# Create widgets for dice configuration\n",
    "dice_face_slider = widgets.SelectionSlider(\n",
    "    options=[4, 6, 8, 10, 12, 20, 100],\n",
    "    value=6,  # Default value\n",
    "    description='Dice Faces:',\n",
    "    style={'description_width': 'initial'},\n",
    "    continuous_update=False\n",
    ")\n",
    "\n",
    "addon_slider = widgets.IntSlider(\n",
    "    value=1,\n",
    "    min=1,\n",
    "    max=20,\n",
    "    step=1,\n",
    "    description='Addon:',\n",
    "    style={'description_width': 'initial'},\n",
    "    continuous_update=False\n",
    ")\n",
    "\n",
    "dice_quantity_slider = widgets.IntSlider(\n",
    "    value=1,\n",
    "    min=1,\n",
    "    max=10,\n",
    "    step=1,\n",
    "    description='Dice Quantity:',\n",
    "    style={'description_width': 'initial'},\n",
    "    continuous_update=False\n",
    ")\n",
    "\n",
    "# Create the Update button\n",
    "update_button = widgets.Button(\n",
    "    description='Update',\n",
    "    button_style='primary',\n",
    "    tooltip='Click to update plot',\n",
    "    icon='refresh'\n",
    ")\n",
    "\n",
    "# Create Output widgets: one for the static plot and another for the dynamic y_slider\n",
    "output_plot = widgets.Output()\n",
    "output_slider = widgets.Output()\n",
    "\n",
    "# Initialize y_slider (initial values will be set after plotting)\n",
    "y_slider = widgets.IntSlider(\n",
    "    value=1,\n",
    "    min=1,\n",
    "    max=100,\n",
    "    step=1,\n",
    "    description=r'$\\text{Threshold, }y=$',\n",
    "    style={'description_width': 'initial'},\n",
    "    continuous_update=True,\n",
    "    layout=widgets.Layout(width='1100px')  # Set the slider width to 400px\n",
    ")\n",
    "\n",
    "# Function to update and display the static plot when Update button is pressed\n",
    "def update_plot(change=None):\n",
    "    with output_plot:\n",
    "        clear_output(wait=True)\n",
    "        dice_faces = dice_face_slider.value\n",
    "        addon = addon_slider.value\n",
    "        dice_quantity = dice_quantity_slider.value\n",
    "        \n",
    "        dice_prompt = f\"{dice_quantity}d{dice_faces}+{addon}\"\n",
    "        dice_roll = dice_roll_toolbox(dice_prompt)\n",
    "\n",
    "        # Plot the updated results\n",
    "        dice_roll.plot_values()\n",
    "\n",
    "        # Update y_slider properties\n",
    "        y_slider.min = dice_roll.min_outcome\n",
    "        y_slider.max = dice_roll.max_outcome\n",
    "        y_slider.value = round(dice_roll.mean_value)  # Set default value to min_value\n",
    "\n",
    "# Function to update the dynamic y_slider output\n",
    "def update_slider_output(change=None):\n",
    "    with output_slider:\n",
    "        clear_output(wait=True)\n",
    "        # Display the slider\n",
    "        display(y_slider)\n",
    "        \n",
    "        # Output the selected numerical results based on y_slider value\n",
    "        dice_faces = dice_face_slider.value\n",
    "        addon = addon_slider.value\n",
    "        dice_quantity = dice_quantity_slider.value\n",
    "        \n",
    "        dice_prompt = f\"{dice_quantity}d{dice_faces}+{addon}\"\n",
    "        dice_roll = dice_roll_toolbox(dice_prompt)\n",
    "        dice_roll.output_select_numerical_results(y_slider.value)\n",
    "\n",
    "# Attach the update function to the Update button click event\n",
    "update_button.on_click(update_plot)\n",
    "\n",
    "# Attach the update function to the y_slider value change event\n",
    "y_slider.observe(update_slider_output, names='value')\n",
    "\n",
    "# Display the main sliders and the Update button\n",
    "display(dice_quantity_slider)\n",
    "display(dice_face_slider)\n",
    "display(addon_slider)\n",
    "\n",
    "display(update_button)\n",
    "\n",
    "# Display the output areas\n",
    "display(output_plot)\n",
    "display(output_slider)\n",
    "\n",
    "# Initial call to display the plot and setup the slider\n",
    "update_plot()\n"
   ]
  },
  {
   "cell_type": "code",
   "execution_count": null,
   "id": "12b25038-5bb8-475c-aaf3-e97adc85b997",
   "metadata": {},
   "outputs": [],
   "source": []
  },
  {
   "cell_type": "code",
   "execution_count": null,
   "id": "4c030e97-30f1-4def-ae20-19cf8a486f90",
   "metadata": {},
   "outputs": [],
   "source": []
  }
 ],
 "metadata": {
  "kernelspec": {
   "display_name": "Python 3 (ipykernel)",
   "language": "python",
   "name": "python3"
  },
  "language_info": {
   "codemirror_mode": {
    "name": "ipython",
    "version": 3
   },
   "file_extension": ".py",
   "mimetype": "text/x-python",
   "name": "python",
   "nbconvert_exporter": "python",
   "pygments_lexer": "ipython3",
   "version": "3.12.4"
  }
 },
 "nbformat": 4,
 "nbformat_minor": 5
}
